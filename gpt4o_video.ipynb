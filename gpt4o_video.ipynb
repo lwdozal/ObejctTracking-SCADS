{
 "cells": [
  {
   "cell_type": "markdown",
   "metadata": {},
   "source": [
    "## Video Testing"
   ]
  },
  {
   "cell_type": "code",
   "execution_count": null,
   "metadata": {},
   "outputs": [],
   "source": [
    "# =========================== Add your Token here ===========================\n",
    "\n",
    "%env API_TOKEN=\n",
    "\n",
    "# ==========================================================================="
   ]
  },
  {
   "cell_type": "code",
   "execution_count": 4,
   "metadata": {},
   "outputs": [
    {
     "name": "stderr",
     "output_type": "stream",
     "text": [
      "/home/ladozal/.local/lib/python3.11/site-packages/torch/cuda/__init__.py:619: UserWarning: Can't initialize NVML\n",
      "  warnings.warn(\"Can't initialize NVML\")\n"
     ]
    }
   ],
   "source": [
    "import sys\n",
    "import yt_dlp\n",
    "import torch\n",
    "import clip\n",
    "import os\n",
    "from openai import OpenAI\n",
    "\n",
    "import base64\n",
    "import requests\n",
    "from IPython.display import Image\n",
    "from PIL import Image\n",
    "from pprint import pprint\n",
    "import pandas as pd\n",
    "import numpy as np\n",
    "\n",
    "\n",
    "device = \"cuda\" if torch.cuda.is_available() else \"cpu\"\n",
    "model, preprocess = clip.load(\"ViT-B/32\", device=device)"
   ]
  },
  {
   "cell_type": "markdown",
   "metadata": {},
   "source": [
    "Connect to OpenAI"
   ]
  },
  {
   "cell_type": "code",
   "execution_count": 5,
   "metadata": {},
   "outputs": [],
   "source": [
    "\n",
    "client = OpenAI(\n",
    "    # This is the default and can be omitted\n",
    "    api_key=os.environ.get(\"API_TOKEN\"),\n",
    ")"
   ]
  },
  {
   "cell_type": "code",
   "execution_count": 6,
   "metadata": {},
   "outputs": [
    {
     "name": "stdout",
     "output_type": "stream",
     "text": [
      "This is a test.\n"
     ]
    }
   ],
   "source": [
    "#test to make sure you're connected to the AI\n",
    "chat_completion = client.chat.completions.create(\n",
    "    messages=[\n",
    "        {\n",
    "            \"role\": \"user\",\n",
    "            \"content\": \"Say this is a test\",\n",
    "        }\n",
    "    ],\n",
    "    model=\"gpt-3.5-turbo\",\n",
    ")\n",
    "print(chat_completion.choices[0].message.content)"
   ]
  },
  {
   "cell_type": "markdown",
   "metadata": {},
   "source": [
    "# Video Testing"
   ]
  },
  {
   "cell_type": "markdown",
   "metadata": {},
   "source": [
    "### Create Batches and Pull Features from video clips as preprocessing\n"
   ]
  },
  {
   "cell_type": "code",
   "execution_count": 7,
   "metadata": {},
   "outputs": [
    {
     "name": "stdout",
     "output_type": "stream",
     "text": [
      "Image Count: 1800\n",
      "['./dashcam/rgb-images/GRMN0105/00001.jpg', './dashcam/rgb-images/GRMN0105/00002.jpg', './dashcam/rgb-images/GRMN0105/00003.jpg', './dashcam/rgb-images/GRMN0105/00004.jpg', './dashcam/rgb-images/GRMN0105/00005.jpg', './dashcam/rgb-images/GRMN0105/00006.jpg', './dashcam/rgb-images/GRMN0105/00007.jpg', './dashcam/rgb-images/GRMN0105/00008.jpg', './dashcam/rgb-images/GRMN0105/00009.jpg', './dashcam/rgb-images/GRMN0105/00010.jpg']\n"
     ]
    }
   ],
   "source": [
    "#read-in the images\n",
    "\n",
    "#Make sure you sort the images correctly when reading them in\n",
    "def sort_directory_files(directory):\n",
    "    # Ensure that the provided path ends with a directory separator if needed\n",
    "    if not directory.endswith(os.sep):\n",
    "        directory += os.sep\n",
    "    \n",
    "    files = sorted(filter(os.path.isfile, (os.path.join(directory, name) for name in os.listdir(directory))))  # Get only file paths and sort them\n",
    "\n",
    "    return files\n",
    "\n",
    "# read in the images and make sure they're all there\n",
    "clip_directory = './dashcam/rgb-images/GRMN0105/'\n",
    "# clip_directory = './cartoon_test/'\n",
    "image_files = sort_directory_files(clip_directory)\n",
    "print(\"Image Count:\", len(image_files))\n",
    "# for file in image_files:\n",
    "#     print(\"Found image:\", file)\n",
    "print(image_files[0:10])"
   ]
  },
  {
   "cell_type": "markdown",
   "metadata": {},
   "source": [
    "#### Batches"
   ]
  },
  {
   "cell_type": "code",
   "execution_count": 9,
   "metadata": {},
   "outputs": [
    {
     "name": "stdout",
     "output_type": "stream",
     "text": [
      "number of batches: 60\n",
      "[ 0  1  2  3  4  5  6  7  8  9 10 11 12 13 14 15 16 17 18 19 20 21 22 23\n",
      " 24 25 26 27 28 29]\n"
     ]
    }
   ],
   "source": [
    "#set your batch size\n",
    "batch_size = 30\n",
    "total_images = len(image_files)\n",
    "indices = np.arange(total_images)\n",
    "\n",
    "# create a list of lists of the images and their indicues at batch size length for the images in image_files\n",
    "def create_batches(indices, batch_size):\n",
    "    for i in range(0,len(indices), batch_size):\n",
    "        yield indices[i:i + batch_size]\n",
    "batches = list(create_batches(indices, batch_size))\n",
    "\n",
    "\n",
    "# create a list of lists of the batch size length for the images in image_files\n",
    "# batches = [image_files[i:i + batch_size] for i in range(0, len(image_files), batch_size)]\n",
    "\n",
    "\n",
    "print(\"number of batches:\", len(batches))\n",
    "print(batches[0])\n",
    "\n"
   ]
  },
  {
   "cell_type": "markdown",
   "metadata": {},
   "source": [
    "#### Implement the model\n",
    "\n",
    "Some information about OpenAI's gpt-4o model:\\\n",
    "*\"The model is best at answering general questions about what is present in the images. While it does understand the relationship between objects in images, it is not yet optimized to answer detailed questions about the location of certain objects in an image. For example, you can ask it what color a car is or what some ideas for dinner might be based on what is in you fridge, but if you show it an image of a room and ask it where the chair is, it may not answer the question correctly.\"* - [openai](https://platform.openai.com/docs/guides/vision)\n",
    "\n",
    "\n",
    "OpenAI essentially lets us know that object detection is still in the early stages for LMMs. This coincides with our hypothesis. Here, the intuition is to now test how well it actually is at object detection in videos. The 1 minute video has about 1800 image clips (frames) to be processed. There are various ways to deal with the frames but here we want to try to run all 1800 on the model because of the nature of our data. \n",
    "\n",
    "Dashcam data, although noisey, has differences and changes in every frame because the video is constantly moving (unless stopped at traffic light). So testing all we can is important to try to get the lmm to detect the smallest details possible."
   ]
  },
  {
   "cell_type": "markdown",
   "metadata": {},
   "source": [
    "##### First LMM\n",
    "\n",
    "Run the video frame batches through the LMM to get a list of summaries.\n",
    "\n",
    "----\n",
    "\n",
    "Processing the 1800 frames brought about "
   ]
  },
  {
   "cell_type": "code",
   "execution_count": 11,
   "metadata": {},
   "outputs": [
    {
     "name": "stdout",
     "output_type": "stream",
     "text": [
      "List with image batches: [ 0  1  2  3  4  5  6  7  8  9 10 11 12 13 14 15 16 17 18 19 20 21 22 23\n",
      " 24 25 26 27 28 29]\n",
      "['In the provided sequence of images, there are several unique cars and vehicle-type objects visible. Here is a summary:\\n\\n1. **Yellow Taxi**: A yellow car, likely a taxi, is consistently visible in the center lane ahead of the camera.\\n2. **White Van**: A white van is parked on the right side of the road.\\n3. **Yellow Car**: Another yellow car is parked on the right side of the road.\\n4. **Dark-colored Car**: A dark-colored car is parked on the right side of the road.\\n5. **White Car**: A white car is parked on the left side of the road.\\n6. **Tanker Truck**: A large tanker truck is visible on the left side of the road.\\n7. **Tuk-tuk**: A three-wheeled vehicle (tuk-tuk) is visible on the left side of the road.\\n\\nThese vehicles appear consistently across the sequence of images, indicating they are stationary or moving slowly relative to the camera.']\n",
      "List with image batches: [30 31 32 33 34 35 36 37 38 39 40 41 42 43 44 45 46 47 48 49 50 51 52 53\n",
      " 54 55 56 57 58 59]\n",
      "['In the provided sequence of images, there are several unique vehicles visible:\\n\\n1. A yellow car in the center lane, which appears consistently in all frames.\\n2. A white van on the left side of the road, visible in multiple frames.\\n3. A white pickup truck on the right side of the road, visible in multiple frames.\\n4. A dark-colored car on the right side of the road, visible in multiple frames.\\n5. A yellow car on the left side of the road, visible in multiple frames.\\n6. A white car on the left side of the road, visible in multiple frames.\\n7. A dark-colored vehicle in the center lane, visible in multiple frames.\\n\\nThese vehicles appear consistently across the sequence of images, indicating they are present throughout the duration of the video segment.']\n",
      "List with image batches: [60 61 62 63 64 65 66 67 68 69 70 71 72 73 74 75 76 77 78 79 80 81 82 83\n",
      " 84 85 86 87 88 89]\n",
      "['In the provided sequence of images, there are several unique vehicles visible. Here is a summary of the vehicles observed:\\n\\n1. **Yellow Sedan**: This car is consistently seen in the middle lane, moving forward.\\n2. **White Van**: Parked on the right side of the road.\\n3. **White Pickup Truck**: Parked on the right side of the road, near the white van.\\n4. **Yellow Sedan (Second)**: Parked on the right side of the road, further down from the white van and pickup truck.\\n5. **White Minibus**: Moving in the left lane, visible in the background.\\n6. **Yellow Sedan (Third)**: Moving in the left lane, visible in the background.\\n7. **White Van (Second)**: Parked on the right side of the road, further down from the first white van and pickup truck.\\n\\nIn total, there are seven unique vehicles observed in the images.']\n",
      "List with image batches: [ 90  91  92  93  94  95  96  97  98  99 100 101 102 103 104 105 106 107\n",
      " 108 109 110 111 112 113 114 115 116 117 118 119]\n",
      "['In the provided image frames, there are several unique vehicles visible. Here is a summary of the vehicles observed:\\n\\n1. **Yellow Sedan**: This car is directly in front of the camera in all frames.\\n2. **White Van**: This vehicle is visible on the left side of the road in the first few frames.\\n3. **White Pickup Truck**: This vehicle is parked on the right side of the road in all frames.\\n4. **Yellow Sedan (Parked)**: This vehicle is parked on the right side of the road in all frames.\\n5. **White Van (Parked)**: This vehicle is parked on the right side of the road in all frames.\\n6. **Another Yellow Sedan (Parked)**: This vehicle is parked on the right side of the road in all frames.\\n\\nIn total, there are six unique vehicles visible in the frames.']\n",
      "List with image batches: [120 121 122 123 124 125 126 127 128 129 130 131 132 133 134 135 136 137\n",
      " 138 139 140 141 142 143 144 145 146 147 148 149]\n",
      "['In the provided image frames, there are several unique cars and vehicle-type objects visible. Here is a summary of the vehicles observed:\\n\\n1. **Yellow Car**: A yellow car is prominently visible in the center of the road in all frames.\\n2. **White Van**: A white van is parked on the right side of the road near the buildings.\\n3. **Black Car**: A black car is parked on the right side of the road near the buildings.\\n4. **Three-Wheeler**: A three-wheeler vehicle is visible on the left side of the road, moving forward.\\n5. **Other Cars**: There are several other cars visible in the distance on both sides of the road.\\n\\nIn total, there are at least five unique vehicle types observed in the frames.']\n",
      "List with image batches: [150 151 152 153 154 155 156 157 158 159 160 161 162 163 164 165 166 167\n",
      " 168 169 170 171 172 173 174 175 176 177 178 179]\n",
      "['In the provided sequence of images, there are several unique cars visible. Here is a description of the cars and vehicle-type objects observed:\\n\\n1. **Yellow Car**: This car is consistently visible in the center lane, moving forward.\\n2. **White Van**: Parked on the right side of the road, near the sidewalk.\\n3. **Dark Red Car**: Parked on the right side of the road, near the sidewalk.\\n4. **Another Yellow Car**: Parked on the right side of the road, near the sidewalk.\\n5. **White Car**: Parked on the left side of the road, near the median.\\n6. **Dark Car**: Moving in the opposite direction on the left side of the road.\\n\\nThese vehicles are visible throughout the sequence of images, with some moving and others parked.']\n",
      "List with image batches: [180 181 182 183 184 185 186 187 188 189 190 191 192 193 194 195 196 197\n",
      " 198 199 200 201 202 203 204 205 206 207 208 209]\n",
      "['In the sequence of images provided, there are several unique cars and vehicle-type objects visible:\\n\\n1. **Yellow Sedan**: This car is consistently visible in the lane ahead of the camera vehicle.\\n2. **White Van**: Parked on the right side of the road.\\n3. **Yellow Taxi**: Parked on the right side of the road.\\n4. **Silver Sedan**: Moving in the opposite direction on the left side of the road.\\n5. **Motorcycle**: Visible in the later frames, moving in the same direction as the camera vehicle.\\n\\nThese vehicles appear consistently across the frames, indicating their presence in the scene.']\n",
      "List with image batches: [210 211 212 213 214 215 216 217 218 219 220 221 222 223 224 225 226 227\n",
      " 228 229 230 231 232 233 234 235 236 237 238 239]\n",
      "['In the sequence of images provided, there are several unique cars visible. Here is a summary of the vehicles observed:\\n\\n1. **Yellow Sedan**: This car is prominently visible in the center of the road, moving forward.\\n2. **White Pickup Truck**: This vehicle is seen on the left side of the road, moving in the opposite direction.\\n3. **Multiple Yellow Sedans**: Parked along the right side of the road, there are several yellow sedans visible.\\n4. **Silver Van**: Parked on the right side of the road, near the buildings.\\n\\nThese vehicles appear consistently across the frames, indicating their presence in the scene.']\n"
     ]
    }
   ],
   "source": [
    "## Set the API key and model name\n",
    "MODEL=\"gpt-4o\"\n",
    "client = OpenAI(api_key=os.environ.get(\"LAS_API_TOKEN\", \"<your OpenAI API key if not set as an env var>\"))\n",
    "\n",
    "def encode_image(image_path):\n",
    "    with open(image_path, \"rb\") as image_file:\n",
    "        return base64.b64encode(image_file.read()).decode(\"utf-8\")\n",
    "    \n",
    "def gpt_frame_summaries(video_frames, image_files):\n",
    "    ret  = []\n",
    "    for frame in video_frames:\n",
    "        ret.append(\n",
    "            {\n",
    "                \"type\": \"image_url\", \"image_url\": {\n",
    "                    \"url\": f\"data:image/png;base64,{encode_image(image_files[frame])}\"\n",
    "                }\n",
    "            })\n",
    "    return ret\n",
    "\n",
    "\n",
    "### there are too many video frames here. You need to find a way to get them all working\n",
    "\n",
    "# here we turned the model into a function so we can run chunks through it later\n",
    "def run_lmm(video_files, prompt1):\n",
    "\n",
    "    answers = []\n",
    "    #turn this into a dataframe with second/summary\n",
    "\n",
    "    response = client.chat.completions.create(\n",
    "        model=MODEL,\n",
    "        messages=[\n",
    "            {\"role\": \"system\", \"content\": prompt1,},\n",
    "            {\"role\": \"user\", \"content\": gpt_frame_summaries(video_files, image_files)},\n",
    "            # {\"role\": \"system\", \"content\": transcript},\n",
    "            # {\"role\": \"system\", \"content\": prompt2},\n",
    "        ],\n",
    "        temperature=0.0,\n",
    "    )\n",
    "    # print(response.choices[0].message.content)\n",
    "    answers.append(response.choices[0].message.content)\n",
    "    return answers\n",
    "\n",
    "\n",
    "\n",
    "## Get Video Summaries from batches\n",
    "\n",
    "def vid_batch_summary(images, prompt1):\n",
    "\n",
    "    #create a list of the summaries to run later\n",
    "    summaries = []\n",
    "    #get the indices of the files within each batch\n",
    "    #run then through the lmm and get a list of their summaries\n",
    "    for i, f in enumerate(images):\n",
    "        indicies = []\n",
    "        print(i)\n",
    "        for inx, file in enumerate(f):\n",
    "            print(\"index\",i, inx)\n",
    "            indicies.append(inx)\n",
    "        print(\"********************************************* Batch:\", i, \"****÷********************************************\")\n",
    "        print(indicies)\n",
    "        answers = run_lmm([i], prompt1)\n",
    "        summaries.append(answers)\n",
    "        print(summaries)\n",
    "    return summaries\n",
    "\n",
    "\n",
    "\n",
    "\n",
    "\n",
    "\n",
    "prompt_obfuscation =\"Each image represents a new image frame in a video. These image frames represent one second's time in the video. From these image frames: identify the number of unique cars shown and describe them. Also provide the second in the video to mark the time. Then see if any of the unique cars shown are temporarily hidden by other cars or objects within the video.\"\n",
    "prompt_uknown = \"Each image represents a new image frame in a video. These image frames represent one second's time in the video. From these image frames:identify the number of unique cars shown and describe them. Particularly note if there any cars of vehicle type objects that appear.\"\n",
    "summary_list = []\n",
    "for batch in batches[0:8]:\n",
    "    print(\"List with image batches:\", batch)\n",
    "    answers = run_lmm(batch, prompt_uknown)\n",
    "    print(answers)\n",
    "    summary_list.append(answers)\n",
    "    \n"
   ]
  },
  {
   "cell_type": "code",
   "execution_count": 12,
   "metadata": {},
   "outputs": [],
   "source": [
    "#save the summaries to csv just in case\n",
    "summary_df = pd.DataFrame(summary_list)\n",
    "# summary_df.to_csv('lmm_unconventionalV_summaries.csv')"
   ]
  },
  {
   "cell_type": "markdown",
   "metadata": {},
   "source": [
    "##### Second LMM\n",
    "Now we can run the summaries through the lmm again so that we can see if it'll get a good description of everything sequentially\n"
   ]
  },
  {
   "cell_type": "code",
   "execution_count": 13,
   "metadata": {},
   "outputs": [
    {
     "name": "stdout",
     "output_type": "stream",
     "text": [
      "['In the provided sequence of images, there are several unique cars and vehicle-type objects visible. Here is a summary:\\n\\n1. **Yellow Taxi**: A yellow car, likely a taxi, is consistently visible in the center lane ahead of the camera.\\n2. **White Van**: A white van is parked on the right side of the road.\\n3. **Yellow Car**: Another yellow car is parked on the right side of the road.\\n4. **Dark-colored Car**: A dark-colored car is parked on the right side of the road.\\n5. **White Car**: A white car is parked on the left side of the road.\\n6. **Tanker Truck**: A large tanker truck is visible on the left side of the road.\\n7. **Tuk-tuk**: A three-wheeled vehicle (tuk-tuk) is visible on the left side of the road.\\n\\nThese vehicles appear consistently across the sequence of images, indicating they are stationary or moving slowly relative to the camera.'] ['In the provided sequence of images, there are several unique vehicles visible:\\n\\n1. A yellow car in the center lane, which appears consistently in all frames.\\n2. A white van on the left side of the road, visible in multiple frames.\\n3. A white pickup truck on the right side of the road, visible in multiple frames.\\n4. A dark-colored car on the right side of the road, visible in multiple frames.\\n5. A yellow car on the left side of the road, visible in multiple frames.\\n6. A white car on the left side of the road, visible in multiple frames.\\n7. A dark-colored vehicle in the center lane, visible in multiple frames.\\n\\nThese vehicles appear consistently across the sequence of images, indicating they are present throughout the duration of the video segment.'] ['In the provided sequence of images, there are several unique vehicles visible. Here is a summary of the vehicles observed:\\n\\n1. **Yellow Sedan**: This car is consistently seen in the middle lane, moving forward.\\n2. **White Van**: Parked on the right side of the road.\\n3. **White Pickup Truck**: Parked on the right side of the road, near the white van.\\n4. **Yellow Sedan (Second)**: Parked on the right side of the road, further down from the white van and pickup truck.\\n5. **White Minibus**: Moving in the left lane, visible in the background.\\n6. **Yellow Sedan (Third)**: Moving in the left lane, visible in the background.\\n7. **White Van (Second)**: Parked on the right side of the road, further down from the first white van and pickup truck.\\n\\nIn total, there are seven unique vehicles observed in the images.'] ['In the provided image frames, there are several unique vehicles visible. Here is a summary of the vehicles observed:\\n\\n1. **Yellow Sedan**: This car is directly in front of the camera in all frames.\\n2. **White Van**: This vehicle is visible on the left side of the road in the first few frames.\\n3. **White Pickup Truck**: This vehicle is parked on the right side of the road in all frames.\\n4. **Yellow Sedan (Parked)**: This vehicle is parked on the right side of the road in all frames.\\n5. **White Van (Parked)**: This vehicle is parked on the right side of the road in all frames.\\n6. **Another Yellow Sedan (Parked)**: This vehicle is parked on the right side of the road in all frames.\\n\\nIn total, there are six unique vehicles visible in the frames.'] ['In the provided image frames, there are several unique cars and vehicle-type objects visible. Here is a summary of the vehicles observed:\\n\\n1. **Yellow Car**: A yellow car is prominently visible in the center of the road in all frames.\\n2. **White Van**: A white van is parked on the right side of the road near the buildings.\\n3. **Black Car**: A black car is parked on the right side of the road near the buildings.\\n4. **Three-Wheeler**: A three-wheeler vehicle is visible on the left side of the road, moving forward.\\n5. **Other Cars**: There are several other cars visible in the distance on both sides of the road.\\n\\nIn total, there are at least five unique vehicle types observed in the frames.'] ['In the provided sequence of images, there are several unique cars visible. Here is a description of the cars and vehicle-type objects observed:\\n\\n1. **Yellow Car**: This car is consistently visible in the center lane, moving forward.\\n2. **White Van**: Parked on the right side of the road, near the sidewalk.\\n3. **Dark Red Car**: Parked on the right side of the road, near the sidewalk.\\n4. **Another Yellow Car**: Parked on the right side of the road, near the sidewalk.\\n5. **White Car**: Parked on the left side of the road, near the median.\\n6. **Dark Car**: Moving in the opposite direction on the left side of the road.\\n\\nThese vehicles are visible throughout the sequence of images, with some moving and others parked.'] ['In the sequence of images provided, there are several unique cars and vehicle-type objects visible:\\n\\n1. **Yellow Sedan**: This car is consistently visible in the lane ahead of the camera vehicle.\\n2. **White Van**: Parked on the right side of the road.\\n3. **Yellow Taxi**: Parked on the right side of the road.\\n4. **Silver Sedan**: Moving in the opposite direction on the left side of the road.\\n5. **Motorcycle**: Visible in the later frames, moving in the same direction as the camera vehicle.\\n\\nThese vehicles appear consistently across the frames, indicating their presence in the scene.'] ['In the sequence of images provided, there are several unique cars visible. Here is a summary of the vehicles observed:\\n\\n1. **Yellow Sedan**: This car is prominently visible in the center of the road, moving forward.\\n2. **White Pickup Truck**: This vehicle is seen on the left side of the road, moving in the opposite direction.\\n3. **Multiple Yellow Sedans**: Parked along the right side of the road, there are several yellow sedans visible.\\n4. **Silver Van**: Parked on the right side of the road, near the buildings.\\n\\nThese vehicles appear consistently across the frames, indicating their presence in the scene.']\n"
     ]
    }
   ],
   "source": [
    "#convert the lists to string so we can put it into the second llm\n",
    "\n",
    "llm_content = \"\"\n",
    "for summary in summary_list:\n",
    "    llm_content = \" \".join([llm_content, str(summary)])\n",
    "\n",
    "print(llm_content.lstrip())"
   ]
  },
  {
   "cell_type": "code",
   "execution_count": 14,
   "metadata": {},
   "outputs": [
    {
     "name": "stdout",
     "output_type": "stream",
     "text": [
      "The summaries describe a sequence of images showing various unique vehicles and vehicle-type objects. Here is a detailed synthesis of the descriptions:\n",
      "\n",
      "1. **Yellow Car/Sedan/Taxi**: A yellow vehicle, often identified as a sedan or taxi, is consistently visible in the center lane ahead of the camera in all frames. This vehicle is a prominent feature across the sequences.\n",
      "\n",
      "2. **White Van**: A white van is frequently mentioned as being parked on the right side of the road. In some descriptions, a second white van is also noted further down the road.\n",
      "\n",
      "3. **White Pickup Truck**: This vehicle is commonly seen parked on the right side of the road, near the white van. In some summaries, it is also mentioned moving in the opposite direction on the left side of the road.\n",
      "\n",
      "4. **Dark-colored Car**: A dark-colored car is often noted as being parked on the right side of the road. In some instances, it is described as moving in the opposite direction on the left side of the road.\n",
      "\n",
      "5. **Yellow Car (Parked)**: Another yellow car, sometimes referred to as a sedan, is parked on the right side of the road. Multiple yellow sedans are mentioned in some summaries.\n",
      "\n",
      "6. **White Car**: A white car is mentioned as being parked on the left side of the road, near the median.\n",
      "\n",
      "7. **Tanker Truck**: A large tanker truck is visible on the left side of the road in one summary.\n",
      "\n",
      "8. **Tuk-tuk/Three-Wheeler**: A three-wheeled vehicle, often referred to as a tuk-tuk, is visible on the left side of the road, moving forward.\n",
      "\n",
      "9. **White Minibus**: Mentioned in one summary as moving in the left lane, visible in the background.\n",
      "\n",
      "10. **Silver Sedan**: A silver sedan is noted as moving in the opposite direction on the left side of the road in some summaries.\n",
      "\n",
      "11. **Motorcycle**: A motorcycle is visible in the later frames, moving in the same direction as the camera vehicle.\n",
      "\n",
      "12. **Dark Red Car**: A dark red car is mentioned as being parked on the right side of the road near the sidewalk in one summary.\n",
      "\n",
      "13. **Black Car**: A black car is noted as being parked on the right side of the road near the buildings in one summary.\n",
      "\n",
      "14. **Other Cars**: Several other cars are visible in the distance on both sides of the road in some summaries.\n",
      "\n",
      "Overall, the vehicles appear consistently across the sequence of images, indicating their presence throughout the duration of the video segment. Some vehicles are stationary, while others are moving, providing a dynamic scene.\n"
     ]
    }
   ],
   "source": [
    "\n",
    "#implement model on summaries to get descriptions\n",
    "#also get summary of description\n",
    "\n",
    "\n",
    "response = client.chat.completions.create(\n",
    "    model=MODEL,\n",
    "    messages=[\n",
    "        {\"role\": \"system\", \"content\": \"Please summarize in detail the description of these summaries about dashcam footage and unconventional or unknown vehicles.\"},\n",
    "        # {\n",
    "            # \"type\": \"csv\",\n",
    "            # \"csv\": {summaries}, }\n",
    "        {\"role\": \"user\", \"content\": llm_content},\n",
    "        # {\"role\": \"system\", \"content\": transcript},\n",
    "        # {\"role\": \"system\", \"content\": \"Please provide a summary of the video.\"},\n",
    "    ],\n",
    "    temperature=0.0,\n",
    "    )\n",
    "print(response.choices[0].message.content)\n",
    "\n"
   ]
  },
  {
   "cell_type": "markdown",
   "metadata": {},
   "source": [
    "Two problem overview ..."
   ]
  },
  {
   "cell_type": "markdown",
   "metadata": {},
   "source": [
    "### Obfuscation\n",
    "The summaries for obfuscation show some understanding that cars have been hidden or covered by other objects in the video, but upon reading the outputs it doesn't seem to catch the relevant details to include structured data.\n",
    "\n",
    "The first prompt to process the first 3 seconds of the video was:\n",
    " *Each image represents a new image frame in a video. These image frames represent one second's time in the video. From these image frames: identify the number of unique cars shown and describe them. Also provide the second in the video to mark the time. Then see if any of the unique cars shown are temporarily hidden by other cars or objects within the video.* \n",
    "\n",
    "The response output was:\n",
    "\n",
    "'In the provided video frames, there are several unique cars visible. Here is a breakdown of the unique cars and their visibility:\n",
    "1. **Yellow Taxi (in front of the camera)**\\n   - Visible in all frames (0s to 1s).\\n\\n\n",
    "2. **White Van (parked on the right side)**\\n   - Visible in all frames (0s to 1s).\\n\\n\n",
    "3. **Yellow Car (parked on the right side)**\\n   - Visible in all frames (0s to 1s).\\n\\n\n",
    "4. **Dark-colored Car (parked on the right side)**\\n   - Visible in all frames (0s to 1s).\\n\\n\n",
    "5. **White Car (parked on the left side)**\\n   - Visible in all frames (0s to 1s).\\n\\n\n",
    "6. **Dark-colored Car (driving on the left side)**\\n   - Visible in all frames (0s to 1s).\\n\\n\n",
    "7. **Tanker Truck (on the left side)**\\n   - Visible in all frames (0s to 1s).\\n\\n\n",
    "8. **Three-wheeler (on the left side)**\\n   - Visible in frames 0s to 0.5s, then hidden by the tanker truck from 0.5s to 1s.\\n\\n\n",
    "\n",
    "In summary, there are eight unique vehicles visible in the video frames, with the three-wheeler being temporarily hidden by the tanker truck from 0.5s to 1s.'\n",
    "\n",
    "'In the provided sequence of images, there are several unique cars visible. Here is a breakdown of the unique cars and their visibility:\\n\\n\n",
    "1. **Yellow Car (Taxi) in the center lane:**\\n   - Visible in all frames.\\n   - Not hidden by any other cars or objects.\\n\\n\n",
    "2. **White Car on the left side of the road:**\\n   - Visible in all frames.\\n   - Not hidden by any other cars or objects.\\n\\n\n",
    "3. **Gray Car on the right side of the road:**\\n   - Visible in all frames.\\n   - Not hidden by any other cars or objects.\\n\\n\n",
    "4. **White Van on the right side of the road:**\\n   - Visible in all frames.\\n   - Not hidden by any other cars or objects.\\n\\n\n",
    "5. **White Truck on the right side of the road:**\\n   - Visible in all frames.\\n   - Not hidden by any other cars or objects.\\n\\n\n",
    "6. **Yellow Car on the left side of the road (near the white car):**\\n   - Visible in all frames.\\n   - Not hidden by any other cars or objects.\\n\\n\n",
    "7. **Black Car in the left lane:**\\n   - Visible in all frames.\\n   - Not hidden by any other cars or objects.\\n\\n\n",
    "8. **White Car in the left lane (behind the black car):**\\n   - Visible in all frames.\\n   - Not hidden by any other cars or objects.\\n\\n\n",
    "All the unique cars mentioned above are consistently visible throughout the sequence of images and are not temporarily hidden by other cars or objects'\n",
    "\n",
    "'In the provided video frames, there are several unique cars visible. Here is the breakdown:\\n\\n\n",
    "1. **Yellow Sedan (in front of the camera)**\\n   - Visible in all frames.\\n   - Time: 11:14:13 to 11:14:14\\n\\n\n",
    "2. **White Van (parked on the right side)**\\n   - Visible in all frames.\\n   - Time: 11:14:13 to 11:14:14\\n\\n\n",
    "3. **Yellow Sedan (on the left side of the road)**\\n   - Visible in all frames.\\n   - Time: 11:14:13 to 11:14:14\\n\\n\n",
    "4. **White Van (parked on the left side)**\\n   - Visible in all frames.\\n   - Time: 11:14:13 to 11:14:14\\n\\n\n",
    "5. **White Truck (parked on the right side)**\\n   - Visible in all frames.\\n   - Time: 11:14:13 to 11:14:14\\n\\n\n",
    "6. **Yellow Sedan (moving towards the camera on the left side)**\\n   - Visible in all frames.\\n   - Time: 11:14:13 to 11:14:14\\n\\n\n",
    "7. **White Sedan (moving towards the camera on the left side)**\\n   - Visible in all frames.\\n   - Time: 11:14:13 to 11:14:14\\n\\nNone of the unique cars are temporarily hidden by other cars or objects within the video frames provided.'\n",
    "\n",
    "--\n",
    "\n",
    "\n",
    "A second pass of running the text summaries through an llm for the first 3 seconds of the video show that gpt-4o could not fully catch these details:\n",
    "The summaries describe dashcam footage capturing a street scene with various vehicles identified and their visibility analyzed. Here is a detailed synthesis of the descriptions. \n",
    "\n",
    "The prompt was *\"Please summarize in detail the description of these summaries about dashcam footage and vehicle obfuscation.\"*:\n",
    "\n",
    "1. **Common Elements Across Summaries:**\n",
    "   - **Timestamp and Coordinates:** The footage is consistently timestamped at 03/01/2023 11:14:12, with the vehicle traveling at 37 MPH.\n",
    "   - **Visibility of Vehicles:** All summaries identify multiple vehicles, noting their positions and visibility in the frames.\n",
    "\n",
    "2. **Unique Cars Identified:**\n",
    "   - **Yellow Car (Taxi) in Front:** All summaries mention a yellow car, likely a taxi, consistently visible in the center lane ahead of the camera vehicle.\n",
    "   - **White Van on the Right Side:** A white van parked on the right side of the road is visible in all frames.\n",
    "   - **Additional Vehicles on the Right Side:** Various summaries mention additional vehicles on the right side, including a white minibus, a white truck, and another yellow car.\n",
    "   - **Vehicles on the Left Side:** A white car and a tuk-tuk (auto rickshaw) are noted on the left side, with the tuk-tuk initially hidden but becoming visible later. Other summaries mention a black car and another yellow car on the left side, with temporary obstructions.\n",
    "\n",
    "3. **Temporary Obstructions:**\n",
    "   - **Tuk-tuk (Auto Rickshaw):** Initially hidden behind a white car on the left side, becoming visible as the camera vehicle moves forward.\n",
    "   - **Other Vehicles:** Some vehicles on the left side are temporarily hidden by a white van or the camera vehicle's frame and sun glare.\n",
    "\n",
    "4. **Summary of Unique Cars:**\n",
    "   - **Total Unique Cars Identified:** The number of unique cars identified varies slightly across summaries, ranging from 6 to 10. This discrepancy is due to different interpretations of visibility and temporary obstructions.\n",
    "\n",
    "In conclusion, the dashcam footage captures a street scene with multiple vehicles identified, including a consistently visible yellow taxi in the center lane and various parked vehicles on both sides of the road. Temporary obstructions are noted, particularly for vehicles on the left side, due to other vehicles or environmental factors like sun glare.\n"
   ]
  },
  {
   "cell_type": "markdown",
   "metadata": {},
   "source": [
    "### Unknown/Unconventional Summaries\n",
    "\n",
    "The results for identifying unknown or less conventional vehicles like tuk-tuks or multi-sized trucks are shown below. We explored the first 8 seconds of the video to get a wider range of potentially unconventional types. \n",
    "\n",
    "The prompt used was *\"Each image represents a new image frame in a video. These image frames represent one second's time in the video. From these image frames:identify the number of unique cars shown and describe them. Particularly note if there any cars of vehicle type objects that appear.\"* \n",
    "\n",
    "The response output gave us:\n",
    "\n",
    "\n",
    "['In the provided sequence of images, there are several unique cars and vehicle-type objects visible. Here is a summary:\\n\\n\n",
    "1. **Yellow Taxi**: A yellow car, likely a taxi, is consistently visible in the center lane ahead of the camera.\\n\n",
    "2. **White Van**: A white van is parked on the right side of the road.\\n\n",
    "3. **Yellow Car**: Another yellow car is parked on the right side of the road.\\n\n",
    "4. **Dark-colored Car**: A dark-colored car is parked on the right side of the road.\\n\n",
    "5. **White Car**: A white car is parked on the left side of the road.\\n\n",
    "6. **Tanker Truck**: A large tanker truck is visible on the left side of the road.\\n\n",
    "7. **Tuk-tuk**: A three-wheeled vehicle (tuk-tuk) is visible on the left side of the road.\\n\\nThese vehicles appear consistently across the sequence of images, indicating they are stationary or moving slowly relative to the camera.']\n",
    "\n",
    "['In the provided sequence of images, there are several unique vehicles visible:\\n\\n\n",
    "1. A yellow car in the center lane, which appears consistently in all frames.\\n\n",
    "2. A white van on the left side of the road, visible in multiple frames.\\n\n",
    "3. A white pickup truck on the right side of the road, visible in multiple frames.\\n\n",
    "4. A dark-colored car on the right side of the road, visible in multiple frames.\\n\n",
    "5. A yellow car on the left side of the road, visible in multiple frames.\\n\n",
    "6. A white car on the left side of the road, visible in multiple frames.\\n\n",
    "7. A dark-colored vehicle in the center lane, visible in multiple frames.\\n\\n\n",
    "\n",
    "These vehicles appear consistently across the sequence of images, indicating they are present throughout the duration of the video segment.']\n",
    "\n",
    "\n",
    "['In the provided sequence of images, there are several unique vehicles visible. Here is a summary of the vehicles observed:\\n\\n\n",
    "1. **Yellow Sedan**: This car is consistently seen in the middle lane, moving forward.\\n\n",
    "2. **White Van**: Parked on the right side of the road.\\n\n",
    "3. **White Pickup Truck**: Parked on the right side of the road, near the white van.\\n\n",
    "4. **Yellow Sedan (Second)**: Parked on the right side of the road, further down from the white van and pickup truck.\\n\n",
    "5. **White Minibus**: Moving in the left lane, visible in the background.\\n\n",
    "6. **Yellow Sedan (Third)**: Moving in the left lane, visible in the background.\\n\n",
    "7. **White Van (Second)**: Parked on the right side of the road, further down from the first white van and pickup truck.\\n\\n\n",
    "In total, there are seven unique vehicles observed in the images.']\n",
    "\n",
    "\n",
    "['In the provided image frames, there are several unique vehicles visible. Here is a summary of the vehicles observed:\\n\\n\n",
    "1. **Yellow Sedan**: This car is directly in front of the camera in all frames.\\n\n",
    "2. **White Van**: This vehicle is visible on the left side of the road in the first few frames.\\n\n",
    "3. **White Pickup Truck**: This vehicle is parked on the right side of the road in all frames.\\n\n",
    "4. **Yellow Sedan (Parked)**: This vehicle is parked on the right side of the road in all frames.\\n\n",
    "5. **White Van (Parked)**: This vehicle is parked on the right side of the road in all frames.\\n\n",
    "6. **Another Yellow Sedan (Parked)**: This vehicle is parked on the right side of the road in all frames.\\n\\n\n",
    "In total, there are six unique vehicles visible in the frames.']\n",
    "\n",
    "\n",
    "['In the provided image frames, there are several unique cars and vehicle-type objects visible. Here is a summary of the vehicles observed:\\n\\n\n",
    "1. **Yellow Car**: A yellow car is prominently visible in the center of the road in all frames.\\n\n",
    "2. **White Van**: A white van is parked on the right side of the road near the buildings.\\n\n",
    "3. **Black Car**: A black car is parked on the right side of the road near the buildings.\\n\n",
    "4. **Three-Wheeler**: A three-wheeler vehicle is visible on the left side of the road, moving forward.\\n\n",
    "5. **Other Cars**: There are several other cars visible in the distance on both sides of the road.\\n\\n\n",
    "In total, there are at least five unique vehicle types observed in the frames.']\n",
    "\n",
    "\n",
    "['In the provided sequence of images, there are several unique cars visible. Here is a description of the cars and vehicle-type objects observed:\\n\\n\n",
    "1. **Yellow Car**: This car is consistently visible in the center lane, moving forward.\\n\n",
    "2. **White Van**: Parked on the right side of the road, near the sidewalk.\\n\n",
    "3. **Dark Red Car**: Parked on the right side of the road, near the sidewalk.\\n\n",
    "4. **Another Yellow Car**: Parked on the right side of the road, near the sidewalk.\\n\n",
    "5. **White Car**: Parked on the left side of the road, near the median.\\n\n",
    "6. **Dark Car**: Moving in the opposite direction on the left side of the road.\\n\\n\n",
    "These vehicles are visible throughout the sequence of images, with some moving and others parked.']\n",
    "\n",
    "\n",
    "['In the sequence of images provided, there are several unique cars and vehicle-type objects visible:\\n\\n\n",
    "1. **Yellow Sedan**: This car is consistently visible in the lane ahead of the camera vehicle.\\n\n",
    "2. **White Van**: Parked on the right side of the road.\\n\n",
    "3. **Yellow Taxi**: Parked on the right side of the road.\\n\n",
    ". **Silver Sedan**: Moving in the opposite direction on the left side of the road.\\n\n",
    "5. **Motorcycle**: Visible in the later frames, moving in the same direction as the camera vehicle.\\n\\n\n",
    "These vehicles appear consistently across the frames, indicating their presence in the scene.']\n",
    "\n",
    "['In the sequence of images provided, there are several unique cars visible. Here is a summary of the vehicles observed:\\n\\n\n",
    "1. **Yellow Sedan**: This car is prominently visible in the center of the road, moving forward.\\n\n",
    "2. **White Pickup Truck**: This vehicle is seen on the left side of the road, moving in the opposite direction.\\n\n",
    "3. **Multiple Yellow Sedans**: Parked along the right side of the road, there are several yellow sedans visible.\\n\n",
    "4. **Silver Van**: Parked on the right side of the road, near the buildings.\\n\\n\n",
    "These vehicles appear consistently across the frames, indicating their presence in the scene.']\n",
    "\n",
    "\n",
    "---\n",
    "\n",
    "A second pass of running the text summaries through an llm for the first 7 seconds of the video show that gpt-4o could not fully catch all of the details, but it does identify unconventional vehicles.\n",
    "\n",
    "\n",
    "The response output was:\n",
    "\n",
    "The summaries describe a sequence of images showing various unique vehicles and vehicle-type objects. Here is a detailed synthesis of the descriptions:\n",
    "\n",
    "1. **Yellow Car/Sedan/Taxi**: A yellow vehicle, often identified as a sedan or taxi, is consistently visible in the center lane ahead of the camera in all frames. This vehicle is a prominent feature across the sequences.\n",
    "\n",
    "2. **White Van**: A white van is frequently mentioned as being parked on the right side of the road. In some descriptions, a second white van is also noted further down the road.\n",
    "\n",
    "3. **White Pickup Truck**: This vehicle is commonly seen parked on the right side of the road, near the white van. In some summaries, it is also mentioned moving in the opposite direction on the left side of the road.\n",
    "\n",
    "4. **Dark-colored Car**: A dark-colored car is often noted as being parked on the right side of the road. In some instances, it is described as moving in the opposite direction on the left side of the road.\n",
    "\n",
    "5. **Yellow Car (Parked)**: Another yellow car, sometimes referred to as a sedan, is parked on the right side of the road. Multiple yellow sedans are mentioned in some summaries.\n",
    "\n",
    "6. **White Car**: A white car is mentioned as being parked on the left side of the road, near the median.\n",
    "\n",
    "7. **Tanker Truck**: A large tanker truck is visible on the left side of the road in one summary.\n",
    "\n",
    "8. **Tuk-tuk/Three-Wheeler**: A three-wheeled vehicle, often referred to as a tuk-tuk, is visible on the left side of the road, moving forward.\n",
    "\n",
    "9. **White Minibus**: Mentioned in one summary as moving in the left lane, visible in the background.\n",
    "\n",
    "10. **Silver Sedan**: A silver sedan is noted as moving in the opposite direction on the left side of the road in some summaries.\n",
    "\n",
    "11. **Motorcycle**: A motorcycle is visible in the later frames, moving in the same direction as the camera vehicle.\n",
    "\n",
    "12. **Dark Red Car**: A dark red car is mentioned as being parked on the right side of the road near the sidewalk in one summary.\n",
    "\n",
    "13. **Black Car**: A black car is noted as being parked on the right side of the road near the buildings in one summary.\n",
    "\n",
    "14. **Other Cars**: Several other cars are visible in the distance on both sides of the road in some summaries.\n",
    "\n",
    "Overall, the vehicles appear consistently across the sequence of images, indicating their presence throughout the duration of the video segment. Some vehicles are stationary, while others are moving, providing a dynamic scene.\n"
   ]
  }
 ],
 "metadata": {
  "kernelspec": {
   "display_name": "Python 3 (ipykernel)",
   "language": "python",
   "name": "python3"
  },
  "language_info": {
   "codemirror_mode": {
    "name": "ipython",
    "version": 3
   },
   "file_extension": ".py",
   "mimetype": "text/x-python",
   "name": "python",
   "nbconvert_exporter": "python",
   "pygments_lexer": "ipython3",
   "version": "3.11.7"
  }
 },
 "nbformat": 4,
 "nbformat_minor": 4
}
